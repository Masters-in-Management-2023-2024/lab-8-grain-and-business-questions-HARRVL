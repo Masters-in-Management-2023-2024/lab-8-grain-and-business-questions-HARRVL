{
  "nbformat": 4,
  "nbformat_minor": 0,
  "metadata": {
    "colab": {
      "provenance": []
    },
    "kernelspec": {
      "name": "python3",
      "display_name": "Python 3"
    },
    "language_info": {
      "name": "python"
    }
  },
  "cells": [
    {
      "cell_type": "code",
      "execution_count": 1,
      "metadata": {
        "colab": {
          "base_uri": "https://localhost:8080/"
        },
        "id": "mIk1R4jQ10nN",
        "outputId": "b7c17d3a-cb35-477b-a0f7-f18bcb2c08e5"
      },
      "outputs": [
        {
          "output_type": "stream",
          "name": "stdout",
          "text": [
            "Loading diamonds dataset...\n",
            "Dataset loaded successfully!\n"
          ]
        }
      ],
      "source": [
        "import polars as pl\n",
        "\n",
        "# Load the diamonds dataset\n",
        "print(\"Loading diamonds dataset...\")\n",
        "df = pl.read_csv('https://raw.githubusercontent.com/pycaret/pycaret/master/datasets/diamond.csv')\n",
        "print(\"Dataset loaded successfully!\")"
      ]
    },
    {
      "cell_type": "code",
      "source": [
        "# Q1 - \"How extensive is our inventory database?\"\n",
        "n_rows = df.height\n",
        "n_cols = df.width\n",
        "print(f\"Our inventory contains {n_rows} diamonds with {n_cols} attributes.\")\n"
      ],
      "metadata": {
        "colab": {
          "base_uri": "https://localhost:8080/"
        },
        "id": "haqvNOHs4sYl",
        "outputId": "34db9c50-2850-4e45-d6d5-e13a87866c35"
      },
      "execution_count": 2,
      "outputs": [
        {
          "output_type": "stream",
          "name": "stdout",
          "text": [
            "Our inventory contains 6000 diamonds with 8 attributes.\n"
          ]
        }
      ]
    },
    {
      "cell_type": "code",
      "source": [
        "# Q2 - \"What information do we track about each diamond?\"\n",
        "print(\"\\nColumns & dtypes:\")\n",
        "for name, dtype in df.schema.items():\n",
        "    print(f\"  - {name}: {dtype}\")"
      ],
      "metadata": {
        "colab": {
          "base_uri": "https://localhost:8080/"
        },
        "id": "GXNt_BQh5KYl",
        "outputId": "c16b6582-8202-498f-effa-0fb7ee26ff76"
      },
      "execution_count": 3,
      "outputs": [
        {
          "output_type": "stream",
          "name": "stdout",
          "text": [
            "\n",
            "Columns & dtypes:\n",
            "  - Carat Weight: Float64\n",
            "  - Cut: String\n",
            "  - Color: String\n",
            "  - Clarity: String\n",
            "  - Polish: String\n",
            "  - Symmetry: String\n",
            "  - Report: String\n",
            "  - Price: Int64\n"
          ]
        }
      ]
    },
    {
      "cell_type": "code",
      "source": [
        "# Q3 - \"When I look at one line in this database, what am I looking at?\"\n",
        "print(\"\\nSample records:\")\n",
        "print(df.head(5))"
      ],
      "metadata": {
        "colab": {
          "base_uri": "https://localhost:8080/"
        },
        "id": "aa797K5p5sjL",
        "outputId": "0d184119-ba0a-4868-98b6-c8e44549dd3c"
      },
      "execution_count": 4,
      "outputs": [
        {
          "output_type": "stream",
          "name": "stdout",
          "text": [
            "\n",
            "Sample records:\n",
            "shape: (5, 8)\n",
            "┌──────────────┬───────┬───────┬─────────┬────────┬──────────┬────────┬───────┐\n",
            "│ Carat Weight ┆ Cut   ┆ Color ┆ Clarity ┆ Polish ┆ Symmetry ┆ Report ┆ Price │\n",
            "│ ---          ┆ ---   ┆ ---   ┆ ---     ┆ ---    ┆ ---      ┆ ---    ┆ ---   │\n",
            "│ f64          ┆ str   ┆ str   ┆ str     ┆ str    ┆ str      ┆ str    ┆ i64   │\n",
            "╞══════════════╪═══════╪═══════╪═════════╪════════╪══════════╪════════╪═══════╡\n",
            "│ 1.1          ┆ Ideal ┆ H     ┆ SI1     ┆ VG     ┆ EX       ┆ GIA    ┆ 5169  │\n",
            "│ 0.83         ┆ Ideal ┆ H     ┆ VS1     ┆ ID     ┆ ID       ┆ AGSL   ┆ 3470  │\n",
            "│ 0.85         ┆ Ideal ┆ H     ┆ SI1     ┆ EX     ┆ EX       ┆ GIA    ┆ 3183  │\n",
            "│ 0.91         ┆ Ideal ┆ E     ┆ SI1     ┆ VG     ┆ VG       ┆ GIA    ┆ 4370  │\n",
            "│ 0.83         ┆ Ideal ┆ G     ┆ SI1     ┆ EX     ┆ EX       ┆ GIA    ┆ 3171  │\n",
            "└──────────────┴───────┴───────┴─────────┴────────┴──────────┴────────┴───────┘\n"
          ]
        }
      ]
    },
    {
      "cell_type": "code",
      "source": [
        "# Section 2 - Strategic Business Questions\n",
        "# Question 4: \"We're considering expanding our storage facilities. How many total carats do we have in inventory?\n",
        "# I need to know if our vaults can handle the weight.\"\n",
        "\n",
        "# Q4: Total carats\n",
        "total_carats = df.select(pl.col(\"Carat Weight\").sum()).item()\n",
        "print(f\"Total carats in inventory: {total_carats:.2f}\")"
      ],
      "metadata": {
        "colab": {
          "base_uri": "https://localhost:8080/"
        },
        "id": "GiOCuM4J5LLe",
        "outputId": "6f5c2202-294b-4525-a8a3-f36a64200908"
      },
      "execution_count": 6,
      "outputs": [
        {
          "output_type": "stream",
          "name": "stdout",
          "text": [
            "Total carats in inventory: 8007.12\n"
          ]
        }
      ]
    },
    {
      "cell_type": "code",
      "source": [
        "# Q5: Variety of cuts\n",
        "unique_cuts = df.select(pl.col(\"Cut\").n_unique()).item()\n",
        "print(f\"We have {unique_cuts} unique cuts in the inventory.\")"
      ],
      "metadata": {
        "colab": {
          "base_uri": "https://localhost:8080/"
        },
        "id": "3_x-sP7j8162",
        "outputId": "274a4e93-51c9-4b6f-f04d-f9a5969286e6"
      },
      "execution_count": 7,
      "outputs": [
        {
          "output_type": "stream",
          "name": "stdout",
          "text": [
            "We have 5 unique cuts in the inventory.\n"
          ]
        }
      ]
    },
    {
      "cell_type": "code",
      "source": [
        "# Q6: Most & least valuable diamonds\n",
        "max_price = df.select(pl.col(\"Price\").max()).item()\n",
        "min_price = df.select(pl.col(\"Price\").min()).item()\n",
        "print(f\"Most valuable diamond: ${max_price:,}\")\n",
        "print(f\"Least valuable diamond: ${min_price:,}\")"
      ],
      "metadata": {
        "colab": {
          "base_uri": "https://localhost:8080/"
        },
        "id": "ZsTHFnrI9Oda",
        "outputId": "37b6c836-6a58-4ea5-cef6-2acb5d80a07f"
      },
      "execution_count": 8,
      "outputs": [
        {
          "output_type": "stream",
          "name": "stdout",
          "text": [
            "Most valuable diamond: $101,561\n",
            "Least valuable diamond: $2,184\n"
          ]
        }
      ]
    },
    {
      "cell_type": "code",
      "source": [
        "# Q7: Typical price by color\n",
        "avg_price_by_color = (\n",
        "    df.group_by(\"Color\")\n",
        "      .agg(pl.col(\"Price\").mean().alias(\"avg_price\"))\n",
        "      .sort(\"Color\")\n",
        ")\n",
        "\n",
        "# avg_price into currency strings for easy read\n",
        "avg_price_by_color = avg_price_by_color.with_columns(\n",
        "    pl.col(\"avg_price\").map_elements(lambda x: f\"${x:,.2f}\", return_dtype=pl.Utf8)\n",
        ")\n",
        "\n",
        "print(avg_price_by_color)"
      ],
      "metadata": {
        "colab": {
          "base_uri": "https://localhost:8080/"
        },
        "id": "7T_2EBzb-yaL",
        "outputId": "2cc58a25-9fbc-4696-b8f6-62185f6e73aa"
      },
      "execution_count": 10,
      "outputs": [
        {
          "output_type": "stream",
          "name": "stdout",
          "text": [
            "shape: (6, 2)\n",
            "┌───────┬────────────┐\n",
            "│ Color ┆ avg_price  │\n",
            "│ ---   ┆ ---        │\n",
            "│ str   ┆ str        │\n",
            "╞═══════╪════════════╡\n",
            "│ D     ┆ $15,255.78 │\n",
            "│ E     ┆ $11,539.19 │\n",
            "│ F     ┆ $12,712.24 │\n",
            "│ G     ┆ $12,520.05 │\n",
            "│ H     ┆ $10,487.35 │\n",
            "│ I     ┆ $8,989.64  │\n",
            "└───────┴────────────┘\n"
          ]
        }
      ]
    },
    {
      "cell_type": "code",
      "source": [
        "# Section 3: Advanced Strategic Analysis\n",
        "# Q8: Breakdown by clarity\n",
        "clarity_breakdown = (\n",
        "    df.group_by(\"Clarity\")\n",
        "      .agg([\n",
        "          pl.len().alias(\"diamond_count\"),\n",
        "          pl.col(\"Price\").mean().alias(\"avg_price\"),\n",
        "          pl.col(\"Carat Weight\").sum().alias(\"total_carats\")\n",
        "      ])\n",
        "      .sort(\"Clarity\")\n",
        ")\n",
        "\n",
        "# avg_price as currency\n",
        "clarity_breakdown = clarity_breakdown.with_columns(\n",
        "    pl.col(\"avg_price\").map_elements(lambda x: f\"${x:,.2f}\", return_dtype=pl.Utf8)\n",
        ")\n",
        "\n",
        "print(clarity_breakdown)"
      ],
      "metadata": {
        "colab": {
          "base_uri": "https://localhost:8080/"
        },
        "id": "WrRnom5SCUJn",
        "outputId": "f230963a-a52c-4acd-ca2a-94c9310b8bc0"
      },
      "execution_count": 11,
      "outputs": [
        {
          "output_type": "stream",
          "name": "stdout",
          "text": [
            "shape: (7, 4)\n",
            "┌─────────┬───────────────┬────────────┬──────────────┐\n",
            "│ Clarity ┆ diamond_count ┆ avg_price  ┆ total_carats │\n",
            "│ ---     ┆ ---           ┆ ---        ┆ ---          │\n",
            "│ str     ┆ u32           ┆ str        ┆ f64          │\n",
            "╞═════════╪═══════════════╪════════════╪══════════════╡\n",
            "│ FL      ┆ 4             ┆ $63,776.00 ┆ 7.87         │\n",
            "│ IF      ┆ 219           ┆ $22,105.84 ┆ 316.0        │\n",
            "│ SI1     ┆ 2059          ┆ $8,018.86  ┆ 2563.69      │\n",
            "│ VS1     ┆ 1192          ┆ $13,694.11 ┆ 1682.74      │\n",
            "│ VS2     ┆ 1575          ┆ $11,809.05 ┆ 2170.81      │\n",
            "│ VVS1    ┆ 285           ┆ $16,845.68 ┆ 389.43       │\n",
            "│ VVS2    ┆ 666           ┆ $14,142.18 ┆ 876.58       │\n",
            "└─────────┴───────────────┴────────────┴──────────────┘\n"
          ]
        }
      ]
    },
    {
      "cell_type": "code",
      "source": [
        "# Q9: Pricing structure across cut-color\n",
        "cut_color_prices = (\n",
        "    df.group_by([\"Cut\", \"Color\"])\n",
        "      .agg(pl.col(\"Price\").mean().alias(\"avg_price\"))\n",
        "      .sort([\"Cut\", \"Color\"])\n",
        ")\n",
        "\n",
        "# avg_price as currency\n",
        "cut_color_prices = cut_color_prices.with_columns(\n",
        "    pl.col(\"avg_price\").map_elements(lambda x: f\"${x:,.2f}\", return_dtype=pl.Utf8)\n",
        ")\n",
        "\n",
        "print(cut_color_prices)\n"
      ],
      "metadata": {
        "colab": {
          "base_uri": "https://localhost:8080/"
        },
        "id": "fFTUlb6mCm_1",
        "outputId": "90117c28-3a55-49d8-9448-3f0301ff11a4"
      },
      "execution_count": 12,
      "outputs": [
        {
          "output_type": "stream",
          "name": "stdout",
          "text": [
            "shape: (30, 3)\n",
            "┌───────────┬───────┬────────────┐\n",
            "│ Cut       ┆ Color ┆ avg_price  │\n",
            "│ ---       ┆ ---   ┆ ---        │\n",
            "│ str       ┆ str   ┆ str        │\n",
            "╞═══════════╪═══════╪════════════╡\n",
            "│ Fair      ┆ D     ┆ $6,058.25  │\n",
            "│ Fair      ┆ E     ┆ $5,370.62  │\n",
            "│ Fair      ┆ F     ┆ $6,063.62  │\n",
            "│ Fair      ┆ G     ┆ $7,345.52  │\n",
            "│ Fair      ┆ H     ┆ $5,908.50  │\n",
            "│ …         ┆ …     ┆ …          │\n",
            "│ Very Good ┆ E     ┆ $12,101.91 │\n",
            "│ Very Good ┆ F     ┆ $12,413.91 │\n",
            "│ Very Good ┆ G     ┆ $12,354.01 │\n",
            "│ Very Good ┆ H     ┆ $10,056.11 │\n",
            "│ Very Good ┆ I     ┆ $8,930.03  │\n",
            "└───────────┴───────┴────────────┘\n"
          ]
        }
      ]
    },
    {
      "cell_type": "code",
      "source": [
        "# Q10: Top 5 most valuable inventory segments\n",
        "top_segments = (\n",
        "    df.group_by([\"Color\", \"Cut\"])\n",
        "      .agg([\n",
        "          pl.len().alias(\"diamond_count\"),\n",
        "          pl.col(\"Price\").sum().alias(\"total_value\")\n",
        "      ])\n",
        "      .sort(\"total_value\", descending=True)\n",
        "      .head(5)\n",
        ")\n",
        "\n",
        "# Format total_value as currency\n",
        "top_segments = top_segments.with_columns(\n",
        "    pl.col(\"total_value\").map_elements(lambda x: f\"${x:,.2f}\", return_dtype=pl.Utf8)\n",
        ")\n",
        "\n",
        "print(top_segments)\n"
      ],
      "metadata": {
        "colab": {
          "base_uri": "https://localhost:8080/"
        },
        "id": "F6mH5L7dC6wA",
        "outputId": "487e763b-c7fe-48b7-95f8-329c3c61626e"
      },
      "execution_count": 13,
      "outputs": [
        {
          "output_type": "stream",
          "name": "stdout",
          "text": [
            "shape: (5, 4)\n",
            "┌───────┬───────────┬───────────────┬───────────────┐\n",
            "│ Color ┆ Cut       ┆ diamond_count ┆ total_value   │\n",
            "│ ---   ┆ ---       ┆ ---           ┆ ---           │\n",
            "│ str   ┆ str       ┆ u32           ┆ str           │\n",
            "╞═══════╪═══════════╪═══════════════╪═══════════════╡\n",
            "│ G     ┆ Ideal     ┆ 690           ┆ $9,363,514.00 │\n",
            "│ G     ┆ Very Good ┆ 578           ┆ $7,140,620.00 │\n",
            "│ F     ┆ Very Good ┆ 455           ┆ $5,648,327.00 │\n",
            "│ F     ┆ Ideal     ┆ 363           ┆ $5,346,782.00 │\n",
            "│ H     ┆ Ideal     ┆ 458           ┆ $5,279,687.00 │\n",
            "└───────┴───────────┴───────────────┴───────────────┘\n"
          ]
        }
      ]
    }
  ]
}